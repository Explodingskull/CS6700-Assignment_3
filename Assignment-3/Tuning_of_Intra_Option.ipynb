{
  "nbformat": 4,
  "nbformat_minor": 0,
  "metadata": {
    "colab": {
      "provenance": []
    },
    "kernelspec": {
      "name": "python3",
      "display_name": "Python 3"
    },
    "language_info": {
      "name": "python"
    }
  },
  "cells": [
    {
      "cell_type": "markdown",
      "source": [
        "### Importing Modules"
      ],
      "metadata": {
        "id": "80yEzsxhj5WI"
      }
    },
    {
      "cell_type": "code",
      "execution_count": 1,
      "metadata": {
        "id": "xikkxBNEjzNJ"
      },
      "outputs": [],
      "source": [
        "import numpy as np\n",
        "import random\n",
        "\n",
        "import torch\n",
        "import torch.nn as nn\n",
        "import torch.nn.functional as F\n",
        "import torch.optim as optim\n",
        "\n",
        "from collections import deque, namedtuple\n",
        "\n",
        "import gym\n",
        "import matplotlib.pyplot as plt\n",
        "from tqdm import tqdm"
      ]
    },
    {
      "cell_type": "markdown",
      "source": [
        "### Defining of environment"
      ],
      "metadata": {
        "id": "lmAzKuTrfT3N"
      }
    },
    {
      "cell_type": "code",
      "source": [
        "env = gym.make(\"Taxi-v3\")\n",
        "env_action_space = env.action_space.n\n",
        "env_state = env.reset()\n",
        "action = env.action_space.sample()\n",
        "a, b, c, d = env.decode(env_state)\n",
        "next_state, reward, done, info = env.step(action)\n",
        "all_destinations = env.unwrapped.locs\n",
        "print(f\"Initial state : {env_state}\")\n",
        "print(f\"Decoded information of initial state => x coordinate of taxi : {a}, y coordinate of taxi : {b}, Passenger location : {c}, Destination : {d}\")\n",
        "print(f\"Dictionary : {0} = {all_destinations[0]}, {1} = {all_destinations[1]}, {2} = {all_destinations[2]}, {3} = {all_destinations[3]}, {4} = In taxi\")"
      ],
      "metadata": {
        "colab": {
          "base_uri": "https://localhost:8080/"
        },
        "id": "1zA7OgCxke9I",
        "outputId": "b0a2b927-cb34-40fd-bac8-7767c5aada67"
      },
      "execution_count": 2,
      "outputs": [
        {
          "output_type": "stream",
          "name": "stdout",
          "text": [
            "Initial state : 232\n",
            "Decoded information of initial state => x coordinate of taxi : 2, y coordinate of taxi : 1, Passenger location : 3, Destination : 0\n",
            "Dictionary : 0 = (0, 0), 1 = (0, 4), 2 = (4, 0), 3 = (4, 3), 4 = In taxi\n"
          ]
        },
        {
          "output_type": "stream",
          "name": "stderr",
          "text": [
            "/usr/local/lib/python3.10/dist-packages/ipykernel/ipkernel.py:283: DeprecationWarning: `should_run_async` will not call `transform_cell` automatically in the future. Please pass the result to `transformed_cell` argument and any exception that happen during thetransform in `preprocessing_exc_tuple` in IPython 7.17 and above.\n",
            "  and should_run_async(code)\n",
            "/usr/local/lib/python3.10/dist-packages/gym/core.py:317: DeprecationWarning: \u001b[33mWARN: Initializing wrapper in old step API which returns one bool instead of two. It is recommended to set `new_step_api=True` to use new step API. This will be the default behaviour in future.\u001b[0m\n",
            "  deprecation(\n",
            "/usr/local/lib/python3.10/dist-packages/gym/wrappers/step_api_compatibility.py:39: DeprecationWarning: \u001b[33mWARN: Initializing environment in old step API which returns one bool instead of two. It is recommended to set `new_step_api=True` to use new step API. This will be the default behaviour in future.\u001b[0m\n",
            "  deprecation(\n",
            "/usr/local/lib/python3.10/dist-packages/gym/utils/passive_env_checker.py:241: DeprecationWarning: `np.bool8` is a deprecated alias for `np.bool_`.  (Deprecated NumPy 1.24)\n",
            "  if not isinstance(terminated, (bool, np.bool8)):\n"
          ]
        }
      ]
    },
    {
      "cell_type": "markdown",
      "source": [
        "### Defining of Epsilon greedy policy for the main Q values and for the option specific Q values"
      ],
      "metadata": {
        "id": "YhB3dovGguVK"
      }
    },
    {
      "cell_type": "code",
      "source": [
        "def epsilon_greedy(q_values, state, epsilon):\n",
        "  if random.uniform(0, 1) >= epsilon:\n",
        "    return np.argmax(q_values[state])\n",
        "  else:\n",
        "    return random.randint(0, 9)\n",
        "\n",
        "def option_epsilon_greedy(q_values, state, epsilon):\n",
        "    if random.uniform(0, 1) >= epsilon:\n",
        "      state_x, state_y, _, _ = env.decode(state)\n",
        "      return np.argmax(q_values[state_x][state_y][:6])\n",
        "    else:\n",
        "      return random.randint(0, 5)"
      ],
      "metadata": {
        "id": "Vp_iCo-UfSlE"
      },
      "execution_count": 3,
      "outputs": []
    },
    {
      "cell_type": "markdown",
      "source": [
        "### Defining of Intra-Option function"
      ],
      "metadata": {
        "id": "_OhrOYyGg5bg"
      }
    },
    {
      "cell_type": "code",
      "source": [
        "def IO(q_values_IO, update_frequency_IO, options_q_values, alpha = 0.1, epsilon = 0.01):\n",
        "  gamma = 0.9                                                                    # Gamma is a Fixed parameter\n",
        "  scores = []                                                                    # For storing Episodic rewards\n",
        "  for _ in tqdm(range(10000)):                                                   # Ran for 10000 episodes\n",
        "    state = env.reset()\n",
        "    done = False\n",
        "    ep_reward = 0\n",
        "    while not done:\n",
        "      action = epsilon_greedy(q_values_IO, state, epsilon)\n",
        "      if action < 6:                                                             # Updation when primitive actions are chosen\n",
        "        next_state, reward, done, _ = env.step(action)\n",
        "        q_values_IO[state][action] += alpha * (reward + gamma * np.max(q_values_IO[next_state]) - q_values_IO[state][action])\n",
        "        update_frequency_IO[state][action] += 1\n",
        "        ep_reward += reward\n",
        "\n",
        "        for i in range(6, 10):                                                   # Updating for options that will chose the primitive action in this state\n",
        "          destination = env.unwrapped.locs[i - 6]\n",
        "          q = options_q_values[i]\n",
        "          opt_action = option_epsilon_greedy(q, state, epsilon)\n",
        "          if opt_action == action:\n",
        "            x_taxi, y_taxi, passenger_loc, dest = env.decode(state)\n",
        "            if x_taxi == destination[0] and y_taxi == destination[1]:\n",
        "              q_values_IO[state][i] += alpha * (reward + gamma * np.max(q_values_IO[next_state]) - q_values_IO[state][i])\n",
        "            else:\n",
        "              q_values_IO[state][i] += alpha * (reward + gamma * q_values_IO[next_state][i] - q_values_IO[state][i])\n",
        "            update_frequency_IO[state][i] += 1\n",
        "        state = next_state\n",
        "      else:                                                                      # Updation when options where chosen\n",
        "        if action == 6:                                                          # Option for making the taxi to move to Red location\n",
        "          destination = env.unwrapped.locs[0]\n",
        "          q = options_q_values[6]\n",
        "        elif action == 7:                                                        # Option for making the taxi to move to Green location\n",
        "          destination = env.unwrapped.locs[1]\n",
        "          q = options_q_values[7]\n",
        "        elif action == 8:                                                        # Option for making the taxi to move to Yellow location\n",
        "          destination = env.unwrapped.locs[2]\n",
        "          q = options_q_values[8]\n",
        "        else:                                                                    # Option for making the taxi to move to Blue location\n",
        "          destination = env.unwrapped.locs[3]\n",
        "          q = options_q_values[9]\n",
        "        rewards = []                                                             # Storing option specific rewards\n",
        "        while True:\n",
        "          opt_action = option_epsilon_greedy(q, state, epsilon)\n",
        "          next_state, reward, done, _ = env.step(opt_action)\n",
        "          state_x, state_y, _, _ = env.decode(state)\n",
        "          next_state_x, next_state_y, _, _ = env.decode(next_state)\n",
        "          rewards.append(reward)\n",
        "                                                                                 # Updating the option specific q values\n",
        "          q[state_x][state_y][opt_action] += alpha * (reward + gamma * np.max(q[next_state_x][next_state_y]) - q[state_x][state_y][opt_action])\n",
        "\n",
        "          q_values_IO[state][opt_action] += alpha * (reward + gamma * np.max(q_values_IO[next_state]) - q_values_IO[state][opt_action])\n",
        "          update_frequency_IO[state][opt_action] += 1\n",
        "          x_taxi, y_taxi, passenger_loc, dest = env.decode(state)\n",
        "          if x_taxi == destination[0] and y_taxi == destination[1]:              # Checking if the taxi has finished the execution of the option or not\n",
        "                                                                                 # Updating Q values for the states\n",
        "            q_values_IO[state][action] += alpha * (reward + gamma * np.max(q_values_IO[next_state]) - q_values_IO[state][action])\n",
        "            update_frequency_IO[state][action] += 1\n",
        "            break\n",
        "          else:\n",
        "                                                                                 # Updating Q values for the states\n",
        "            q_values_IO[state][action] += alpha * (reward + gamma * q_values_IO[next_state][action] - q_values_IO[state][action])\n",
        "            update_frequency_IO[state][action] += 1\n",
        "\n",
        "          for i in range(6, 10):\n",
        "            if i != action:\n",
        "              destination_dash = env.unwrapped.locs[i - 6]\n",
        "              q_dash = options_q_values[i]\n",
        "              opt_action_dash = option_epsilon_greedy(q_dash, state, epsilon)\n",
        "              if opt_action_dash == opt_action:\n",
        "                if x_taxi == destination_dash[0] and y_taxi == destination_dash[1]:              # Checking if the taxi has finished the execution of the option or not\n",
        "                                                                                 # Updating Q values for the states\n",
        "                  q_values_IO[state][i] += alpha * (reward + gamma * np.max(q_values_IO[next_state]) - q_values_IO[state][i])\n",
        "                else:\n",
        "                                                                                 # Updating Q values for the states\n",
        "                  q_values_IO[state][i] += alpha * (reward + gamma * q_values_IO[next_state][i] - q_values_IO[state][i])\n",
        "                update_frequency_IO[state][i] += 1\n",
        "\n",
        "          state = next_state\n",
        "        R = 0\n",
        "        for reward in rewards[::-1]:\n",
        "          R = reward + gamma * R\n",
        "        ep_reward += R\n",
        "    scores.append(ep_reward)\n",
        "  return scores"
      ],
      "metadata": {
        "id": "zEOeh3-E-228"
      },
      "execution_count": 4,
      "outputs": []
    },
    {
      "cell_type": "code",
      "source": [
        "alpha_list = [0.01, 0.05, 0.1]\n",
        "epsilon_list = [0.01, 0.1]\n",
        "dic = {}\n",
        "for alpha in alpha_list:\n",
        "  for epsilon in epsilon_list:\n",
        "    q_values_IO = np.zeros((500, 10))\n",
        "    update_frequency_IO = np.zeros((500, 10))\n",
        "    options_q_values = {6 : np.zeros((5, 5, 6)), 7 : np.zeros((5, 5, 6)), 8 : np.zeros((5, 5, 6)), 9 : np.zeros((5, 5, 6))}\n",
        "    scores = IO(q_values_IO, update_frequency_IO, options_q_values, alpha, epsilon)\n",
        "    dic[(alpha, epsilon)] = np.sum(scores)"
      ],
      "metadata": {
        "id": "AOoFDNDyFt-r",
        "colab": {
          "base_uri": "https://localhost:8080/"
        },
        "outputId": "8773ae19-114c-4de4-f83f-7ccc8f03b0f1"
      },
      "execution_count": 5,
      "outputs": [
        {
          "output_type": "stream",
          "name": "stderr",
          "text": [
            "100%|██████████| 10000/10000 [01:47<00:00, 92.82it/s]\n",
            "100%|██████████| 10000/10000 [02:06<00:00, 79.07it/s]\n",
            "100%|██████████| 10000/10000 [00:31<00:00, 314.55it/s]\n",
            "100%|██████████| 10000/10000 [00:56<00:00, 176.71it/s]\n",
            "100%|██████████| 10000/10000 [00:23<00:00, 424.73it/s]\n",
            "100%|██████████| 10000/10000 [00:47<00:00, 212.07it/s]\n"
          ]
        }
      ]
    },
    {
      "cell_type": "code",
      "source": [
        "print(dic)"
      ],
      "metadata": {
        "id": "71OI8c78dS8x",
        "colab": {
          "base_uri": "https://localhost:8080/"
        },
        "outputId": "2d8971e6-0575-4971-d409-e3fe731b98dc"
      },
      "execution_count": 6,
      "outputs": [
        {
          "output_type": "stream",
          "name": "stdout",
          "text": [
            "{(0.01, 0.01): -764396.5937176169, (0.01, 0.1): -753138.4774177767, (0.05, 0.01): -114166.36302156514, (0.05, 0.1): -197433.7192513535, (0.1, 0.01): -28717.567596460936, (0.1, 0.1): -137793.86144545308}\n"
          ]
        }
      ]
    },
    {
      "cell_type": "code",
      "source": [
        "opt_par = max(dic.keys(), key = lambda x : dic[x])\n",
        "print(f\"The best parameter is {opt_par}\")"
      ],
      "metadata": {
        "id": "3HN0VAmzcOqj",
        "colab": {
          "base_uri": "https://localhost:8080/"
        },
        "outputId": "e3d48be5-94ec-476a-da4c-b07a5551ef91"
      },
      "execution_count": 7,
      "outputs": [
        {
          "output_type": "stream",
          "name": "stdout",
          "text": [
            "The best parameter is (0.1, 0.01)\n"
          ]
        }
      ]
    },
    {
      "cell_type": "code",
      "source": [
        "y = list(dic.values())\n",
        "x =[]\n",
        "for i in range(1, 7):\n",
        "    x.append(i)\n",
        "plt.plot(x, y)\n",
        "plt.title(\"Parameter's ids vs their reward\")\n",
        "plt.xlabel(\"Parameter's ids\")\n",
        "plt.ylabel(\"Reward\")\n",
        "plt.show()"
      ],
      "metadata": {
        "colab": {
          "base_uri": "https://localhost:8080/",
          "height": 472
        },
        "id": "ASIS2dxGW8Rk",
        "outputId": "ef9bc073-a865-41bb-b300-4fabcb5a02e1"
      },
      "execution_count": 8,
      "outputs": [
        {
          "output_type": "display_data",
          "data": {
            "text/plain": [
              "<Figure size 640x480 with 1 Axes>"
            ],
            "image/png": "[encoded data removed]"
          },
          "metadata": {}
        }
      ]
    }
  ]
}