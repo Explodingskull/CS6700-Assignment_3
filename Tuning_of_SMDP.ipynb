{
  "nbformat": 4,
  "nbformat_minor": 0,
  "metadata": {
    "colab": {
      "provenance": []
    },
    "kernelspec": {
      "name": "python3",
      "display_name": "Python 3"
    },
    "language_info": {
      "name": "python"
    }
  },
  "cells": [
    {
      "cell_type": "markdown",
      "source": [
        "### Importing Modules"
      ],
      "metadata": {
        "id": "80yEzsxhj5WI"
      }
    },
    {
      "cell_type": "code",
      "execution_count": 4,
      "metadata": {
        "id": "xikkxBNEjzNJ"
      },
      "outputs": [],
      "source": [
        "import numpy as np\n",
        "import random\n",
        "\n",
        "import torch\n",
        "import torch.nn as nn\n",
        "import torch.nn.functional as F\n",
        "import torch.optim as optim\n",
        "\n",
        "from collections import deque, namedtuple\n",
        "\n",
        "import gym\n",
        "import matplotlib.pyplot as plt\n",
        "from tqdm import tqdm"
      ]
    },
    {
      "cell_type": "markdown",
      "source": [
        "### Defining of environment"
      ],
      "metadata": {
        "id": "lmAzKuTrfT3N"
      }
    },
    {
      "cell_type": "code",
      "source": [
        "env = gym.make(\"Taxi-v3\")\n",
        "env_action_space = env.action_space.n\n",
        "env_state = env.reset()\n",
        "action = env.action_space.sample()\n",
        "a, b, c, d = env.decode(env_state)\n",
        "next_state, reward, done, info = env.step(action)\n",
        "all_destinations = env.unwrapped.locs\n",
        "print(f\"Initial state : {env_state}\")\n",
        "print(f\"Decoded information of initial state => x coordinate of taxi : {a}, y coordinate of taxi : {b}, Passenger location : {c}, Destination : {d}\")\n",
        "print(f\"Dictionary : {0} = {all_destinations[0]}, {1} = {all_destinations[1]}, {2} = {all_destinations[2]}, {3} = {all_destinations[3]}, {4} = In taxi\")"
      ],
      "metadata": {
        "colab": {
          "base_uri": "https://localhost:8080/"
        },
        "id": "1zA7OgCxke9I",
        "outputId": "d1c8d9f9-5657-4b68-da5f-1597fd48afd1"
      },
      "execution_count": 5,
      "outputs": [
        {
          "output_type": "stream",
          "name": "stdout",
          "text": [
            "Initial state : 241\n",
            "Decoded information of initial state => x coordinate of taxi : 2, y coordinate of taxi : 2, Passenger location : 0, Destination : 1\n",
            "Dictionary : 0 = (0, 0), 1 = (0, 4), 2 = (4, 0), 3 = (4, 3), 4 = In taxi\n"
          ]
        }
      ]
    },
    {
      "cell_type": "markdown",
      "source": [
        "### Defining of Epsilon greedy policy for the main Q values and for the option specific Q values"
      ],
      "metadata": {
        "id": "YhB3dovGguVK"
      }
    },
    {
      "cell_type": "code",
      "source": [
        "def epsilon_greedy(q_values, state, epsilon):\n",
        "  if random.uniform(0, 1) > epsilon:\n",
        "    return np.argmax(q_values[state])\n",
        "  else:\n",
        "    return random.randint(0, 9)\n",
        "\n",
        "def option_epsilon_greedy(q_values, state, epsilon):\n",
        "    if random.uniform(0, 1) > epsilon:\n",
        "      state_x, state_y, _, _ = env.decode(state)\n",
        "      return np.argmax(q_values[state_x][state_y][:6])\n",
        "    else:\n",
        "      return random.randint(0, 5)"
      ],
      "metadata": {
        "id": "Vp_iCo-UfSlE"
      },
      "execution_count": 6,
      "outputs": []
    },
    {
      "cell_type": "markdown",
      "source": [
        "### Defining of SMDP function"
      ],
      "metadata": {
        "id": "_OhrOYyGg5bg"
      }
    },
    {
      "cell_type": "code",
      "source": [
        "def SMDP(q_values_SMDP, update_frequency_SMDP, options_q_values, alpha = 0.1, epsilon = 0.1):\n",
        "  gamma = 0.9                                                                    # Gamma is a Fixed parameter\n",
        "  scores = []                                                                    # For storing Episodic rewards\n",
        "  for _ in tqdm(range(10000)):                                                   # Ran for 10000 episodes\n",
        "    state = env.reset()\n",
        "    done = False\n",
        "    ep_reward = 0\n",
        "    while not done:\n",
        "      action = epsilon_greedy(q_values_SMDP, state, epsilon)\n",
        "      if action < 6:                                                             # Updation when primitive actions are chosen\n",
        "        next_state, reward, done, _ = env.step(action)\n",
        "        q_values_SMDP[state][action] += alpha * (reward + gamma * np.max(q_values_SMDP[next_state]) - q_values_SMDP[state][action])\n",
        "        update_frequency_SMDP[state][action] += 1\n",
        "        ep_reward += reward\n",
        "        state = next_state\n",
        "      else:                                                                      # Updation when options where chosen\n",
        "        if action == 6:                                                          # Option for making the taxi to move to Red location\n",
        "          destination = env.unwrapped.locs[0]\n",
        "          q = options_q_values[6]\n",
        "        elif action == 7:                                                        # Option for making the taxi to move to Green location\n",
        "          destination = env.unwrapped.locs[1]\n",
        "          q = options_q_values[7]\n",
        "        elif action == 8:                                                        # Option for making the taxi to move to Yellow location\n",
        "          destination = env.unwrapped.locs[2]\n",
        "          q = options_q_values[8]\n",
        "        else:                                                                    # Option for making the taxi to move to Blue location\n",
        "          destination = env.unwrapped.locs[3]\n",
        "          q = options_q_values[9]\n",
        "        init_state = state                                                       # Storing the start state of the option for updating later\n",
        "        rewards = []                                                             # Storing option specific rewards\n",
        "        while True:\n",
        "          opt_action = option_epsilon_greedy(q, state, epsilon)\n",
        "          next_state, reward, done, _ = env.step(opt_action)\n",
        "          state_x, state_y, _, _ = env.decode(state)\n",
        "          next_state_x, next_state_y, _, _ = env.decode(next_state)\n",
        "          rewards.append(reward)\n",
        "                                                                                 # Updating the option specific q values\n",
        "          q[state_x][state_y][opt_action] += alpha * (reward + gamma * np.max(q[next_state_x][next_state_y]) - q[state_x][state_y][opt_action])\n",
        "\n",
        "          state = next_state\n",
        "          x_taxi, y_taxi, passenger_loc, dest = env.decode(state)\n",
        "          if x_taxi == destination[0] and y_taxi == destination[1]:              # Checking if the taxi has finished the execution of the option or not\n",
        "            break\n",
        "        R = 0\n",
        "        for reward in rewards[::-1]:                                             # Calculating the return for the option\n",
        "          R = reward + gamma * R\n",
        "        ep_reward += R\n",
        "                                                                                 # Updating the SMDP q value for the option\n",
        "        q_values_SMDP[init_state][action] += alpha * (R + (gamma ** len(rewards)) * np.max(q_values_SMDP[state]) - q_values_SMDP[init_state][action])\n",
        "        update_frequency_SMDP[init_state][action] += 1\n",
        "    scores.append(ep_reward)\n",
        "  return scores"
      ],
      "metadata": {
        "id": "zEOeh3-E-228"
      },
      "execution_count": 7,
      "outputs": []
    },
    {
      "cell_type": "code",
      "source": [
        "alpha_list = [0.01, 0.05, 0.1]\n",
        "epsilon_list = [0.01, 0.1]\n",
        "dic = {}\n",
        "for alpha in alpha_list:\n",
        "  for epsilon in epsilon_list:\n",
        "    q_values_SMDP = np.zeros((500, 10))\n",
        "    update_frequency_SMDP = np.zeros((500, 10))\n",
        "    options_q_values = {6 : np.zeros((5, 5, 6)), 7 : np.zeros((5, 5, 6)), 8 : np.zeros((5, 5, 6)), 9 : np.zeros((5, 5, 6))}\n",
        "    scores = SMDP(q_values_SMDP, update_frequency_SMDP, options_q_values, alpha, epsilon)\n",
        "    dic[(alpha, epsilon)] = np.sum(scores)"
      ],
      "metadata": {
        "id": "AOoFDNDyFt-r",
        "colab": {
          "base_uri": "https://localhost:8080/"
        },
        "outputId": "40d3762b-61bc-4b80-edb3-1e20e95a33f5"
      },
      "execution_count": 8,
      "outputs": [
        {
          "output_type": "stream",
          "name": "stderr",
          "text": [
            "100%|██████████| 10000/10000 [01:13<00:00, 135.23it/s]\n",
            "100%|██████████| 10000/10000 [01:17<00:00, 129.62it/s]\n",
            "100%|██████████| 10000/10000 [00:25<00:00, 387.73it/s]\n",
            "100%|██████████| 10000/10000 [00:27<00:00, 366.90it/s]\n",
            "100%|██████████| 10000/10000 [00:17<00:00, 565.43it/s]\n",
            "100%|██████████| 10000/10000 [00:20<00:00, 480.78it/s]\n"
          ]
        }
      ]
    },
    {
      "cell_type": "code",
      "source": [
        "print(dic)"
      ],
      "metadata": {
        "id": "vcvkIwfboLlv",
        "colab": {
          "base_uri": "https://localhost:8080/"
        },
        "outputId": "f626a027-f4eb-4cca-e2e5-0b8c2f035c62"
      },
      "execution_count": 9,
      "outputs": [
        {
          "output_type": "stream",
          "name": "stdout",
          "text": [
            "{(0.01, 0.01): -763271.4330757333, (0.01, 0.1): -880170.0882160926, (0.05, 0.01): -142756.76776814205, (0.05, 0.1): -241246.43612618165, (0.1, 0.01): -37824.79581942731, (0.1, 0.1): -126138.53659929252}\n"
          ]
        }
      ]
    },
    {
      "cell_type": "code",
      "source": [
        "opt_par = max(dic.keys(), key = lambda x : dic[x])\n",
        "print(f\"The best parameter is {opt_par}\")"
      ],
      "metadata": {
        "id": "3HN0VAmzcOqj",
        "colab": {
          "base_uri": "https://localhost:8080/"
        },
        "outputId": "76d73ef9-e4ac-4924-e287-3aa50c0655c3"
      },
      "execution_count": 10,
      "outputs": [
        {
          "output_type": "stream",
          "name": "stdout",
          "text": [
            "The best parameter is (0.1, 0.01)\n"
          ]
        }
      ]
    },
    {
      "cell_type": "code",
      "source": [
        "y = list(dic.values())\n",
        "x =[]\n",
        "for i in range(1, 7):\n",
        "    x.append(i)\n",
        "plt.plot(x, y)\n",
        "plt.title(\"Parameter's ids vs their reward\")\n",
        "plt.xlabel(\"Parameter's ids\")\n",
        "plt.ylabel(\"Reward\")\n",
        "plt.show()"
      ],
      "metadata": {
        "colab": {
          "base_uri": "https://localhost:8080/",
          "height": 472
        },
        "id": "QGqumlhScpLw",
        "outputId": "70d139d8-ba0a-4e44-e505-80e30be5f098"
      },
      "execution_count": 11,
      "outputs": [
        {
          "output_type": "display_data",
          "data": {
            "text/plain": [
              "<Figure size 640x480 with 1 Axes>"
            ],
            "image/png": "[encoded data removed]"
          },
          "metadata": {}
        }
      ]
    }
  ]
}